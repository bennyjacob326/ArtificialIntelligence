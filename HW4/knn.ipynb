{
  "nbformat": 4,
  "nbformat_minor": 0,
  "metadata": {
    "colab": {
      "provenance": []
    },
    "kernelspec": {
      "name": "python3",
      "display_name": "Python 3"
    },
    "language_info": {
      "name": "python"
    }
  },
  "cells": [
    {
      "cell_type": "markdown",
      "metadata": {
        "id": "PELNEMlpx2Ri"
      },
      "source": [
        "Import the libraries math (for square root and absolute value) and pandas and numpy for reading csv files."
      ]
    },
    {
      "cell_type": "code",
      "metadata": {
        "id": "mkYTODtExydl"
      },
      "source": [
        "import math\n",
        "import pandas as pd\n",
        "import numpy as np"
      ],
      "execution_count": 12,
      "outputs": []
    },
    {
      "cell_type": "markdown",
      "metadata": {
        "id": "zCgb1pGFx8od"
      },
      "source": [
        "Make an untagged vector, point, and two tagged vectors, data1 and data2:"
      ]
    },
    {
      "cell_type": "code",
      "metadata": {
        "id": "Ifbww56byViT"
      },
      "source": [
        "point = [1, 0, 0, '?'] #(an unknown tag)\n",
        "data1 = [1, 1, 1, 'M']\n",
        "data2 = [1, 3, 0, 'F']\n"
      ],
      "execution_count": 13,
      "outputs": []
    },
    {
      "cell_type": "markdown",
      "metadata": {
        "id": "2hiHzqnsyhW2"
      },
      "source": [
        "Write code to separate the data (X) from the tag (Y).  Your output should be:\n",
        "\n",
        "The vector [1, 1, 1] has tag M\n",
        "\n",
        "The vector [1, 3, 0] has tag F\n"
      ]
    },
    {
      "cell_type": "code",
      "metadata": {
        "id": "CdgKt99HyaKT",
        "colab": {
          "base_uri": "https://localhost:8080/"
        },
        "outputId": "c6f6fb1c-e52a-4133-d9ca-88455188bc15"
      },
      "source": [
        "print(\"The vector \" , data1[0:-1], \" has tag \", data1[-1])"
      ],
      "execution_count": 14,
      "outputs": [
        {
          "output_type": "stream",
          "name": "stdout",
          "text": [
            "The vector  [1, 1, 1]  has tag  M\n"
          ]
        }
      ]
    },
    {
      "cell_type": "markdown",
      "metadata": {
        "id": "Nknnav39yb8C"
      },
      "source": [
        "Now let's classify the point as either M or F.  We'll do this by setting k = 1 and using the Euclidean distance.  We'll define that as: "
      ]
    },
    {
      "cell_type": "code",
      "metadata": {
        "id": "gT0HxYoxzG_-"
      },
      "source": [
        "def euclideanDistance(instance1, instance2, length):\n",
        "   distance = 0\n",
        "   for x in range(length):\n",
        "         #print ('x is ' , x)\n",
        "         num1=float(instance1[x])\n",
        "         num2=float(instance2[x])\n",
        "         distance = distance + pow(num1-num2, 2)\n",
        "   return math.sqrt(distance)\n"
      ],
      "execution_count": 15,
      "outputs": []
    },
    {
      "cell_type": "markdown",
      "metadata": {
        "id": "RhO3w2O4zKG8"
      },
      "source": [
        "Now, find out the distance between data1 and point and data2 and point. Output what the tag should be using euclideanDistance."
      ]
    },
    {
      "cell_type": "code",
      "metadata": {
        "id": "rzHsm2KezPie",
        "colab": {
          "base_uri": "https://localhost:8080/"
        },
        "outputId": "14fa5d2a-6f8a-41c6-b357-f5d558a491c7"
      },
      "source": [
        "print(euclideanDistance(data1,point,3))"
      ],
      "execution_count": 16,
      "outputs": [
        {
          "output_type": "stream",
          "name": "stdout",
          "text": [
            "1.4142135623730951\n"
          ]
        }
      ]
    },
    {
      "cell_type": "markdown",
      "metadata": {
        "id": "bImk9yPazRCS"
      },
      "source": [
        "Now, let's get more data from a file, myFile.csv. This code will read it for us:"
      ]
    },
    {
      "cell_type": "code",
      "metadata": {
        "id": "xeInyfvYzbKj"
      },
      "source": [
        "url = 'https://github.com/rosenfa/ai/blob/master/myFile.csv?raw=true'\n",
        "df=pd.read_csv(url,  header=0, error_bad_lines=False) \n",
        "#put data in dataset without header line\n",
        "dataset = np.array(df)"
      ],
      "execution_count": 17,
      "outputs": []
    },
    {
      "cell_type": "markdown",
      "metadata": {
        "id": "X_1JLdAEzdhu"
      },
      "source": [
        "Show that you understand what you read by:\n",
        "\n",
        "1. Printing the first two vectors in the file\n",
        "2. Printing the Euclidean distance between those two vectors\n",
        "\n",
        "Here is some code which I think might help get you on your way!"
      ]
    },
    {
      "cell_type": "code",
      "metadata": {
        "id": "e4QT_37TzuWr",
        "colab": {
          "base_uri": "https://localhost:8080/"
        },
        "outputId": "f713cdf5-1ef3-41b1-aeac-217acf68fcb1"
      },
      "source": [
        "print(len(dataset))\n",
        "print(euclideanDistance(dataset[0],dataset[1],3))"
      ],
      "execution_count": 18,
      "outputs": [
        {
          "output_type": "stream",
          "name": "stdout",
          "text": [
            "10\n",
            "5.744562646538029\n"
          ]
        }
      ]
    },
    {
      "cell_type": "markdown",
      "metadata": {
        "id": "Mw03nhZuEyUw"
      },
      "source": [
        "Now assume you have a new value for point:\n",
        "\n",
        "[0,0,100]\n",
        "\n",
        "How would you classify this vector using the Euclidean distance function given all of the vectors in the file?\n",
        "\n",
        "In order to help here is a hint:  \n",
        "\n",
        "We suggest defining some type of data struction to store different vectors' distances and their tags like this:"
      ]
    },
    {
      "cell_type": "code",
      "metadata": {
        "id": "oh8ym0_SE7Rb"
      },
      "source": [
        "class distClass:\n",
        "    dist = -1 #distance of current point from test point\n",
        "    tag = '-' #tag of current point\n"
      ],
      "execution_count": 19,
      "outputs": []
    },
    {
      "cell_type": "markdown",
      "metadata": {
        "id": "-KZR5lxOFP2v"
      },
      "source": [
        "You can then add vector distances like this:"
      ]
    },
    {
      "cell_type": "code",
      "metadata": {
        "colab": {
          "base_uri": "https://localhost:8080/"
        },
        "id": "hdFwOHcCFScU",
        "outputId": "34c79748-c568-4d06-f168-eee033f9ad47"
      },
      "source": [
        "eucDistances = [] # list of distances, will hold objects of type distClass\n",
        "\n",
        "temp=dataset[1]\n",
        "label=temp[-1]\n",
        "d=euclideanDistance(point,temp,3)\n",
        "print(\"The distances between \" , point , \" and \" , temp,  \" is \" , str(d))\n",
        "print(\" and the label is \" + label)\n",
        "obj = distClass() #one record's distance and tag\n",
        "obj.dist=d\n",
        "obj.tag=label\n",
        "eucDistances.append(obj)\n"
      ],
      "execution_count": 20,
      "outputs": [
        {
          "output_type": "stream",
          "name": "stdout",
          "text": [
            "The distances between  [1, 0, 0, '?']  and  [1 5 6 'F']  is  7.810249675906654\n",
            " and the label is F\n"
          ]
        }
      ]
    },
    {
      "cell_type": "code",
      "metadata": {
        "colab": {
          "base_uri": "https://localhost:8080/"
        },
        "id": "OTJBcLSJa8SR",
        "outputId": "0b6f2d17-b087-4c10-b398-08171564043c"
      },
      "source": [
        "eucDistances[0].dist"
      ],
      "execution_count": 21,
      "outputs": [
        {
          "output_type": "execute_result",
          "data": {
            "text/plain": [
              "7.810249675906654"
            ]
          },
          "metadata": {},
          "execution_count": 21
        }
      ]
    },
    {
      "cell_type": "markdown",
      "metadata": {
        "id": "67seTigUFbW7"
      },
      "source": [
        "and sort them like this:"
      ]
    },
    {
      "cell_type": "code",
      "metadata": {
        "id": "J0rEdJXKFctw"
      },
      "source": [
        "eucDistances.sort(key=lambda x: x.dist) "
      ],
      "execution_count": 22,
      "outputs": []
    },
    {
      "cell_type": "markdown",
      "metadata": {
        "id": "eWzp7vM9FgLm"
      },
      "source": [
        "Questions:\n",
        "\n",
        "1. What is the label for point if k=1?\n",
        "2. What is the label for point if k=3?\n",
        "3. Would the result be different if we used a different distance function like Hamming or Manhattan?"
      ]
    },
    {
      "cell_type": "code",
      "metadata": {
        "id": "tbHJ5OS5GeCw"
      },
      "source": [
        "#Add code with functions that implement Hamming and Manhattan distances and test \n",
        "#what the label will be for k=1 and k=3 for all possibilities \n",
        "#(6 total: 2 Euclidean, 2 Hamming and 2 Manhattan)"
      ],
      "execution_count": 23,
      "outputs": []
    },
    {
      "cell_type": "markdown",
      "metadata": {
        "id": "o-XsqlSRVyEX"
      },
      "source": [
        "Up until here is a simplified version of the homework.\n",
        "Below here is the work for the part we will be checking as the basis of your grade: "
      ]
    },
    {
      "cell_type": "markdown",
      "metadata": {
        "id": "7KPzkCfLGxDK"
      },
      "source": [
        "Now let's look at some bigger files: \n",
        "\n",
        "1. mytrain.csv (for training the model)\n",
        "2. mytest.csv (for testing)\n"
      ]
    },
    {
      "cell_type": "code",
      "metadata": {
        "id": "menQ9SEoG_Ag"
      },
      "source": [
        "url = 'https://github.com/rosenfa/ai/blob/master/mytrain.csv?raw=true'\n",
        "train_data = np.array(pd.read_csv(url,  header=0, error_bad_lines=False))\n",
        "url = 'https://github.com/rosenfa/ai/blob/master/mytest.csv?raw=true'\n",
        "test_data = np.array(pd.read_csv(url,  header=0, error_bad_lines=False))"
      ],
      "execution_count": 24,
      "outputs": []
    },
    {
      "cell_type": "code",
      "metadata": {
        "id": "ej1wLymKHPnT",
        "colab": {
          "base_uri": "https://localhost:8080/"
        },
        "outputId": "eea761aa-9b67-481e-991c-b8b32a88d389"
      },
      "source": [
        "print(train_data.shape)# number of records and features\n",
        "print(train_data)"
      ],
      "execution_count": 25,
      "outputs": [
        {
          "output_type": "stream",
          "name": "stdout",
          "text": [
            "(100, 30)\n",
            "[[0.317251 0.540016 0.150514 ... 0.0 0.212007 'F']\n",
            " [3.882181 0.0 0.0 ... 0.0 0.0 'F']\n",
            " [1.790708 0.0 0.0 ... 0.0 0.0 'F']\n",
            " ...\n",
            " [0.0 0.0 0.0 ... 0.0 0.0 'M']\n",
            " [0.0 0.0 0.0 ... 0.0 0.0 'M']\n",
            " [0.0 0.0 0.0 ... 0.0 0.0 'F']]\n"
          ]
        }
      ]
    },
    {
      "cell_type": "code",
      "metadata": {
        "id": "v9YKMlcPHVWU",
        "colab": {
          "base_uri": "https://localhost:8080/"
        },
        "outputId": "92619c7b-ee34-4ba4-848c-8dc715508858"
      },
      "source": [
        "print(test_data.shape)# number of records and features\n",
        "print(test_data)"
      ],
      "execution_count": 26,
      "outputs": [
        {
          "output_type": "stream",
          "name": "stdout",
          "text": [
            "(100, 30)\n",
            "[[2.85985 0.66275 0.0 ... 0.995289 0.0 'F']\n",
            " [0.0 12.998726 0.0 ... 0.0 0.0 'F']\n",
            " [13.231318 0.0 0.0 ... 0.0 0.0 'F']\n",
            " ...\n",
            " [0.0 0.0 0.0 ... 0.0 0.0 'M']\n",
            " [1.688611 0.0 3.204529 ... 0.0 0.0 'M']\n",
            " [0.0 0.0 0.0 ... 0.0 0.0 'M']]\n"
          ]
        }
      ]
    },
    {
      "cell_type": "markdown",
      "metadata": {
        "id": "hsjBpdObIB7d"
      },
      "source": [
        "I hope by now you understand where we are going with this :)\n",
        "\n",
        "Now implement the knn code with 3 different values for k:\n",
        "1. k = 1\n",
        "2. k = 7\n",
        "3. k = 15\n",
        "\n",
        "and at first use the Euclidean distance.\n",
        "Classify each of the vectors in the test_data dataset using the training data from train_data.  Which value for k did the best?  What accuracy did it give you?\n",
        "\n",
        "Now see if using Hamming or Manhattan distance give any better results for the same values of k.  \n",
        "\n",
        "Once you are done, you should have a total of 9 different results:\n",
        "\n",
        "1. Three results for the different value of k using the Euclidean Distance\n",
        "2. Three results for the different value of k using the Hamming Distance\n",
        "3. Three results for the different value of k using the Manhattan Distance\n",
        "\n",
        "Hint: I strongly suggest you base yourself on the code you've seen until this point so you don't have to reinvent the wheel!"
      ]
    },
    {
      "cell_type": "markdown",
      "source": [
        "Defining the hamming and manhattan distance:"
      ],
      "metadata": {
        "id": "6F9urN61pMYl"
      }
    },
    {
      "cell_type": "code",
      "source": [
        "def hammingDistance(instance1, instance2, length):\n",
        "  count = 0; \n",
        "  for x in range(length):\n",
        "    num1=float(instance1[x])\n",
        "    num2=float(instance2[x])\n",
        "    count += int(num1 != num2)\n",
        "  return count\n",
        "\n",
        "def manhattanDistance(instance1, instance2, length):\n",
        "  count = 0; \n",
        "  for x in range(length):\n",
        "    num1=float(instance1[x])\n",
        "    num2=float(instance2[x])\n",
        "    count += abs(num1 - num2)\n",
        "  return count"
      ],
      "metadata": {
        "id": "ngBJTRRlnXKs"
      },
      "execution_count": 27,
      "outputs": []
    },
    {
      "cell_type": "markdown",
      "source": [
        "define the method knn:"
      ],
      "metadata": {
        "id": "CwTBN_I2pR2f"
      }
    },
    {
      "cell_type": "code",
      "source": [
        "def knn(distances, k):\n",
        "  distances.sort(key=lambda x: x.dist) \n",
        "  M = 0\n",
        "  F = 0\n",
        "  for i in range(k):\n",
        "    if distances[i].tag == 'M' :\n",
        "      M+=1\n",
        "    else:\n",
        "      F+=1\n",
        "  if M > F :\n",
        "    return 'M'\n",
        "  else:\n",
        "    return 'F'"
      ],
      "metadata": {
        "id": "SpRNMQiXnOPI"
      },
      "execution_count": 28,
      "outputs": []
    },
    {
      "cell_type": "markdown",
      "source": [],
      "metadata": {
        "id": "elomHtUUpmD2"
      }
    },
    {
      "cell_type": "code",
      "metadata": {
        "id": "dIyZbN4kJBrO",
        "outputId": "2142349b-560d-4be6-fa75-320e7cb3ef8a",
        "colab": {
          "base_uri": "https://localhost:8080/"
        }
      },
      "source": [
        "correct = 0\n",
        "not_correct = 0\n",
        "for point_test in test_data:\n",
        "  distances = []\n",
        "  for point_train in train_data:\n",
        "    obj = distClass()\n",
        "    obj.dist = manhattanDistance(point_test, point_train, 29) # change distance function, either euclidean, hamming, or manhattan\n",
        "    obj.tag = point_train[29]\n",
        "    distances.append(obj)\n",
        "  if knn(distances, 7) == point_test[29]: # change k for different tests, either 1, 7, or 15\n",
        "    correct+=1\n",
        "\n",
        "print(correct/100)"
      ],
      "execution_count": 29,
      "outputs": [
        {
          "output_type": "stream",
          "name": "stdout",
          "text": [
            "0.63\n"
          ]
        }
      ]
    },
    {
      "cell_type": "markdown",
      "source": [
        "# **Results:**\n",
        "\n",
        "Euclidian:\n",
        "\n",
        "k = 1 - 50% accuracy \n",
        "\n",
        "k = 7 - 74% accuracy\n",
        "\n",
        "k = 15 - 70% accuracy\n",
        "\n",
        "\n",
        "Hamming:\n",
        "\n",
        "k = 1 - 61% accuracy \n",
        "\n",
        "k = 7 - 55% accuracy\n",
        "\n",
        "k = 15 - 57% accuracy\n",
        "\n",
        "Manhattan:\n",
        "\n",
        "k = 1 - 61% accuracy \n",
        "\n",
        "k = 7 - 63% accuracy\n",
        "\n",
        "k = 15 - 69% accuracy"
      ],
      "metadata": {
        "id": "0A0DhUIsniBf"
      }
    },
    {
      "cell_type": "markdown",
      "metadata": {
        "id": "HD2PnNuTQ175"
      },
      "source": [
        "Grade Basis:\n",
        "\n",
        "80% for correct answers (and yes, there are possibilities that multiple answers are correct-- especially for cases of ties).\n",
        "\n",
        "20% : Documentation and easily readable code\n",
        "\n",
        "Please publish your final Notebook in your Github directory.\n",
        "\n",
        "The homework assignment is due by November 30th.\n"
      ]
    }
  ]
}